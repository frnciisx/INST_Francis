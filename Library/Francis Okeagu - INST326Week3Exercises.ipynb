{
 "cells": [
  {
   "cell_type": "markdown",
   "id": "BWqJ063nDnXm",
   "metadata": {
    "id": "BWqJ063nDnXm"
   },
   "source": [
    "# INST326 Week 3 — Library Management Project: Function Exercises (30)\n",
    "\n",
    "This notebook contains **30 programming exercises** focused on **functions** — defining them, passing arguments, returning values, using default and keyword arguments, docstrings, and simple tests with `print()` statements.\n",
    "\n",
    "**Scope gate:** These exercises **avoid Week 4+ topics** (no files, imports of your own modules, classes/objects, exception frameworks, comprehensions, decorators, generators, context managers, or external libraries). Use **only Week 1–3 skills**: variables, expressions, strings, numbers, booleans, conditionals, loops, and **basic lists/tuples**. Keep solutions straightforward and readable."
   ]
  },
  {
   "cell_type": "markdown",
   "id": "viMVIayGDnXp",
   "metadata": {
    "id": "viMVIayGDnXp"
   },
   "source": [
    "## Python skills needed (Week 3 scope)\n",
    "- Defining functions with `def`\n",
    "- Calling functions with positional and keyword arguments\n",
    "- Returning values with `return` (including returning booleans, numbers, and small tuples)\n",
    "- Default parameter values\n",
    "- Writing concise docstrings (triple-quoted) that state purpose, parameters, and return value\n",
    "- Using variables, expressions, arithmetic, comparisons, and boolean operators\n",
    "- String basics: `.strip()`, `.lower()`, `.upper()`, `.title()`, slicing, and concatenation\n",
    "- Lists (basic): indexing, `append`, `remove`, `pop`, `len`, `in`, simple iteration\n",
    "- Tuples (basic) for fixed-size records where useful\n",
    "- Conditionals (`if`, `elif`, `else`) and loops (`for`, `while`) as needed to implement behavior\n",
    "- **Avoid**: file I/O, user-defined classes, modules/imports (beyond built-ins), list/dict comprehensions, try/except frameworks, decorators, generators"
   ]
  },
  {
   "cell_type": "markdown",
   "id": "oc7SZpoPDnXq",
   "metadata": {
    "id": "oc7SZpoPDnXq"
   },
   "source": [
    "---\n",
    "## Starter data (parallel lists)\n",
    "\n",
    "To keep Week 3 scope, we'll represent the library with **parallel lists**. Each index refers to the same book across lists.\n",
    "\n",
    "- `titles`: list of book titles  \n",
    "- `authors`: list of author names (same length as `titles`)  \n",
    "- `is_checked_out`: list of booleans (`True` if currently checked out)\n",
    "\n",
    "Feel free to reuse or modify these in later exercises."
   ]
  },
  {
   "cell_type": "code",
   "execution_count": 1,
   "id": "yH1IAcl5DnXr",
   "metadata": {
    "id": "yH1IAcl5DnXr"
   },
   "outputs": [],
   "source": [
    "\n",
    "# Starter data (parallel lists)\n",
    "titles = [\n",
    "    \"The Pragmatic Programmer\", \"Clean Code\", \"Python Crash Course\",\n",
    "    \"Automate the Boring Stuff\", \"Introduction to Algorithms\"\n",
    "]\n",
    "authors = [\n",
    "    \"Andrew Hunt & David Thomas\", \"Robert C. Martin\", \"Eric Matthes\",\n",
    "    \"Al Sweigart\", \"Cormen, Leiserson, Rivest, Stein\"\n",
    "]\n",
    "is_checked_out = [False, False, True, False, True]  # True = checked out"
   ]
  },
  {
   "cell_type": "markdown",
   "id": "oBKiyjpVDnXs",
   "metadata": {
    "id": "oBKiyjpVDnXs"
   },
   "source": [
    "---\n",
    "### Exercise 1\n",
    "Write a function `normalize_title(title)` that returns the title with extra spaces trimmed and each word title-cased."
   ]
  },
  {
   "cell_type": "code",
   "execution_count": 47,
   "id": "2XKfxwupDnXt",
   "metadata": {
    "id": "2XKfxwupDnXt"
   },
   "outputs": [
    {
     "name": "stdout",
     "output_type": "stream",
     "text": [
      "Clean Code\n",
      "Python Crash Course\n"
     ]
    }
   ],
   "source": [
    "def normalize_title(title: str) -> str:\n",
    "    \"\"\"Return a cleaned, title-cased version of `title`.\"\"\"\n",
    "    cleaned = \" \".join(title.strip().split())\n",
    "    return cleaned.title()\n",
    "\n",
    "# Quick checks\n",
    "print(normalize_title(\"  clean code  \"))          # -> \"Clean Code\"\n",
    "print(normalize_title(\"python   crash   course\")) # -> \"Python Crash Course\""
   ]
  },
  {
   "cell_type": "markdown",
   "id": "fDId239JDnXu",
   "metadata": {
    "id": "fDId239JDnXu"
   },
   "source": [
    "---\n",
    "### Exercise 2\n",
    "Write a function `find_book_index(titles, search_title)` that returns the **index** of the first exact match, or `-1` if not found."
   ]
  },
  {
   "cell_type": "code",
   "execution_count": 54,
   "id": "_KVA7EJiDnXu",
   "metadata": {
    "id": "_KVA7EJiDnXu"
   },
   "outputs": [],
   "source": [
    "# Your code here\n",
    "def find_book_index(titles, search_title):\n",
    "\n",
    "    for i, title in enumerate(titles):\n",
    "        if title == search_title:\n",
    "            return i\n",
    "    return -1\n"
   ]
  },
  {
   "cell_type": "markdown",
   "id": "eXAl-PgkDnXv",
   "metadata": {
    "id": "eXAl-PgkDnXv"
   },
   "source": [
    "---\n",
    "### Exercise 3\n",
    "Write `find_book_index_fuzzy(titles, search_title)` that compares titles **case-insensitively** and ignores leading/trailing spaces."
   ]
  },
  {
   "cell_type": "code",
   "execution_count": 69,
   "id": "2xgBmst1DnXv",
   "metadata": {
    "id": "2xgBmst1DnXv"
   },
   "outputs": [],
   "source": [
    "# Your code here\n",
    "def find_book_index_fuzzy(titles, search_title):\n",
    "    \n",
    "    normalized_search = search_title.strip().lower()\n",
    "    for i, title in enumerate(titles):\n",
    "        if title.strip().lower() == normalized_search:\n",
    "            return i\n",
    "    return -1\n"
   ]
  },
  {
   "cell_type": "markdown",
   "id": "OhuiSQvsDnXw",
   "metadata": {
    "id": "OhuiSQvsDnXw"
   },
   "source": [
    "---\n",
    "### Exercise 4\n",
    "Write `is_available(is_checked_out, index)` that returns `True` if the book at `index` is **not** checked out."
   ]
  },
  {
   "cell_type": "code",
   "execution_count": 60,
   "id": "KMZWRnavDnXw",
   "metadata": {
    "id": "KMZWRnavDnXw"
   },
   "outputs": [
    {
     "name": "stdout",
     "output_type": "stream",
     "text": [
      "True\n"
     ]
    }
   ],
   "source": [
    "# Your code here\n",
    "def is_available(is_checked_out, index):\n",
    "\n",
    "    return not is_checked_out[index]\n",
    "\n",
    "print(is_available(is_checked_out, 1))\n"
   ]
  },
  {
   "cell_type": "markdown",
   "id": "HJlXqFpTDnXx",
   "metadata": {
    "id": "HJlXqFpTDnXx"
   },
   "source": [
    "---\n",
    "### Exercise 5\n",
    "Write `checkout_book(is_checked_out, index)` that returns `True` and updates the list if the book was available; otherwise return `False` and make **no change**."
   ]
  },
  {
   "cell_type": "code",
   "execution_count": 67,
   "id": "jb8KN4hIDnXx",
   "metadata": {
    "id": "jb8KN4hIDnXx"
   },
   "outputs": [],
   "source": [
    "# Your code here\n",
    "def checkout_book(is_checked_out, index):\n",
    "\n",
    "    if not is_checked_out[index]:\n",
    "        is_checked_out[index] = True\n",
    "        return True\n",
    "    return False"
   ]
  },
  {
   "cell_type": "markdown",
   "id": "vTaoPPwLDnXy",
   "metadata": {
    "id": "vTaoPPwLDnXy"
   },
   "source": [
    "---\n",
    "### Exercise 6\n",
    "Write `return_book(is_checked_out, index)` that marks the book as returned (not checked out). Return `True` if a change was made, else `False`."
   ]
  },
  {
   "cell_type": "code",
   "execution_count": 68,
   "id": "QIrqRDzpDnXy",
   "metadata": {
    "id": "QIrqRDzpDnXy"
   },
   "outputs": [],
   "source": [
    "# Your code here\n",
    "def return_book(is_checked_out, index):\n",
    "    if is_checked_out[index]:\n",
    "        is_checked_out[index] = False\n",
    "        return True\n",
    "    return False"
   ]
  },
  {
   "cell_type": "markdown",
   "id": "W5am-8AJDnXy",
   "metadata": {
    "id": "W5am-8AJDnXy"
   },
   "source": [
    "---\n",
    "### Exercise 7\n",
    "Write `count_available(is_checked_out)` that returns the number of available books."
   ]
  },
  {
   "cell_type": "code",
   "execution_count": 71,
   "id": "-LorTbjFDnXz",
   "metadata": {
    "id": "-LorTbjFDnXz"
   },
   "outputs": [],
   "source": [
    "# Your code here\n",
    "def count_available(is_checked_out):\n",
    "    available_count = 0\n",
    "    for checked in is_checked_out:\n",
    "        if not checked:\n",
    "            available += 1\n",
    "    return available_count\n"
   ]
  },
  {
   "cell_type": "markdown",
   "id": "yPOOQWUODnXz",
   "metadata": {
    "id": "yPOOQWUODnXz"
   },
   "source": [
    "---\n",
    "### Exercise 8\n",
    "Write `add_book(titles, authors, is_checked_out, new_title, new_author)` that appends a book and returns the **new length** of the library (number of books). Also append `False` to `is_checked_out`."
   ]
  },
  {
   "cell_type": "code",
   "execution_count": 72,
   "id": "2S-0BwpWDnX0",
   "metadata": {
    "id": "2S-0BwpWDnX0"
   },
   "outputs": [],
   "source": [
    "# Your code here\n",
    "def add_book(titles, authors, is_checked_out, new_title, new_author):\n",
    "    \n",
    "    titles.append(new_title)\n",
    "    authors.append(new_author)\n",
    "    is_checked_out.append(False)\n",
    "    return len(titles)"
   ]
  },
  {
   "cell_type": "markdown",
   "id": "BrMB77AxDnX0",
   "metadata": {
    "id": "BrMB77AxDnX0"
   },
   "source": [
    "---\n",
    "### Exercise 9\n",
    "Write `remove_book(titles, authors, is_checked_out, index)` that removes the book at `index` from all three lists. Return a tuple `(removed_title, removed_author)`."
   ]
  },
  {
   "cell_type": "code",
   "execution_count": null,
   "id": "aI2jVdgNDnX0",
   "metadata": {
    "id": "aI2jVdgNDnX0"
   },
   "outputs": [],
   "source": [
    "# Your code here\n",
    "def remove_book(titles, authors, is_checked_out, index):\n",
    "    removed_title = titles.pop(index)\n",
    "    removed_author = authors.pop(index)\n",
    "    is_checked_out.pop(index)\n",
    "    return (removed_title, removed_author)"
   ]
  },
  {
   "cell_type": "markdown",
   "id": "sO1VJepMDnX1",
   "metadata": {
    "id": "sO1VJepMDnX1"
   },
   "source": [
    "---\n",
    "### Exercise 10\n",
    "Write `books_by_author(titles, authors, author_name)` that returns a **list of titles** matching `author_name` exactly."
   ]
  },
  {
   "cell_type": "code",
   "execution_count": 73,
   "id": "pr6XG_ykDnX1",
   "metadata": {
    "id": "pr6XG_ykDnX1"
   },
   "outputs": [],
   "source": [
    "# Your code here\n",
    "def books_by_author(titles, authors, author_name):\n",
    "    result = []\n",
    "    for title, author in zip(titles, authors):\n",
    "        if author == author_name:\n",
    "            result.append(title)\n",
    "    return result"
   ]
  },
  {
   "cell_type": "markdown",
   "id": "Co2X09s5DnX1",
   "metadata": {
    "id": "Co2X09s5DnX1"
   },
   "source": [
    "---\n",
    "### Exercise 11\n",
    "Write `books_by_author_fuzzy(titles, authors, author_query)` that matches authors **case-insensitively** and ignores leading/trailing spaces."
   ]
  },
  {
   "cell_type": "code",
   "execution_count": 74,
   "id": "2Wha7I7ZDnX2",
   "metadata": {
    "id": "2Wha7I7ZDnX2"
   },
   "outputs": [],
   "source": [
    "# Your code here\n",
    "def books_by_author_fuzzy(titles, authors, author_query):\n",
    "    query = author_query.strip().lower()\n",
    "    result = []\n",
    "    for title, author in zip(titles, authors):\n",
    "        if author.strip().lower() == query:\n",
    "            result.append(title)\n",
    "    return result"
   ]
  },
  {
   "cell_type": "markdown",
   "id": "X-W__Tc9DnX2",
   "metadata": {
    "id": "X-W__Tc9DnX2"
   },
   "source": [
    "---\n",
    "### Exercise 12\n",
    "Write `search_titles_contains(titles, phrase, case_sensitive=False)` that returns titles containing `phrase`. If `case_sensitive` is `False`, do a case-insensitive search."
   ]
  },
  {
   "cell_type": "code",
   "execution_count": 75,
   "id": "-wRRlBPbDnX2",
   "metadata": {
    "id": "-wRRlBPbDnX2"
   },
   "outputs": [],
   "source": [
    "# Your code here\n",
    "def search_titles_contains(titles, phrase, case_sensitive=False):\n",
    "    result = []\n",
    "    if not case_sensitive:\n",
    "        phrase = phrase.lower()\n",
    "    for title in titles:\n",
    "        check_title = title if case_sensitive else title.lower()\n",
    "        if phrase in check_title:\n",
    "            result.append(title)\n",
    "    return result"
   ]
  },
  {
   "cell_type": "markdown",
   "id": "W7u84vOFDnX3",
   "metadata": {
    "id": "W7u84vOFDnX3"
   },
   "source": [
    "---\n",
    "### Exercise 13\n",
    "Write `percent_checked_out(is_checked_out)` that returns the percentage of books currently checked out (0–100). If there are no books, return `0.0`."
   ]
  },
  {
   "cell_type": "code",
   "execution_count": 76,
   "id": "Dv20XSvWDnX3",
   "metadata": {
    "id": "Dv20XSvWDnX3"
   },
   "outputs": [],
   "source": [
    "# Your code here\n",
    "def percent_checked_out(is_checked_out):\n",
    "    total = len(is_checked_out)\n",
    "    if total == 0:\n",
    "        return 0.0\n",
    "    checked_out_count = sum(is_checked_out)\n",
    "    return (checked_out_count / total) * 100"
   ]
  },
  {
   "cell_type": "markdown",
   "id": "ujXvnE0kDnX4",
   "metadata": {
    "id": "ujXvnE0kDnX4"
   },
   "source": [
    "---\n",
    "### Exercise 14\n",
    "Write `due_status(days_out, max_days=14)` that returns:\n",
    "- `\"On time\"` if `days_out <= max_days`\n",
    "- `\"Overdue by X day(s)\"` if `days_out > max_days`"
   ]
  },
  {
   "cell_type": "code",
   "execution_count": 77,
   "id": "KmKnIDctDnX4",
   "metadata": {
    "id": "KmKnIDctDnX4"
   },
   "outputs": [],
   "source": [
    "# Your code here\n",
    "def due_status(days_out, max_days=14):\n",
    "    if days_out <= max_days:\n",
    "        return \"On time\"\n",
    "    else:\n",
    "        overdue_days = days_out - max_days\n",
    "        return f\"Overdue by {overdue_days} day(s)\""
   ]
  },
  {
   "cell_type": "markdown",
   "id": "nKJriv8TDnX4",
   "metadata": {
    "id": "nKJriv8TDnX4"
   },
   "source": [
    "---\n",
    "### Exercise 15\n",
    "Write `format_book_label(title, author, prefix=\"LIB\")` that returns a string like `\"LIB | Clean Code — Robert C. Martin\"`."
   ]
  },
  {
   "cell_type": "code",
   "execution_count": 80,
   "id": "t7zlTXxvDnX5",
   "metadata": {
    "id": "t7zlTXxvDnX5"
   },
   "outputs": [],
   "source": [
    "# Your code here\n",
    "def format_book_label(title, author, prefix=\"LIB\"):\n",
    "    return f\"{prefix} | {title} — {author}\""
   ]
  },
  {
   "cell_type": "markdown",
   "id": "bqsqZS0NDnX5",
   "metadata": {
    "id": "bqsqZS0NDnX5"
   },
   "source": [
    "---\n",
    "### Exercise 16\n",
    "Write `toggle_checkout(is_checked_out, index)` that flips the boolean at `index` and returns the **new value**."
   ]
  },
  {
   "cell_type": "code",
   "execution_count": 81,
   "id": "DkPowaEODnX5",
   "metadata": {
    "id": "DkPowaEODnX5"
   },
   "outputs": [],
   "source": [
    "# Your code here\n",
    "def toggle_checkout(is_checked_out, index):\n",
    "    is_checked_out[index] = not is_checked_out[index]\n",
    "    return is_checked_out[index]"
   ]
  },
  {
   "cell_type": "markdown",
   "id": "wmvOhX9GDnX6",
   "metadata": {
    "id": "wmvOhX9GDnX6"
   },
   "source": [
    "---\n",
    "### Exercise 17\n",
    "Write `count_by_author(authors, author_name)` that returns how many books the library has by `author_name`."
   ]
  },
  {
   "cell_type": "code",
   "execution_count": 82,
   "id": "2S7q6ajIDnX6",
   "metadata": {
    "id": "2S7q6ajIDnX6"
   },
   "outputs": [],
   "source": [
    "# Your code here\n",
    "def count_by_author(authors, author_name):\n",
    "    count = 0\n",
    "    for author in authors:\n",
    "        if author == author_name:\n",
    "            count += 1\n",
    "    return count"
   ]
  },
  {
   "cell_type": "markdown",
   "id": "RGg5jGYfDnX7",
   "metadata": {
    "id": "RGg5jGYfDnX7"
   },
   "source": [
    "---\n",
    "### Exercise 18\n",
    "Write `rename_title(titles, index, new_title)` that replaces `titles[index]` with the normalized title (see Exercise 1). Return the updated title."
   ]
  },
  {
   "cell_type": "code",
   "execution_count": 83,
   "id": "Ru49tG_nDnYS",
   "metadata": {
    "id": "Ru49tG_nDnYS"
   },
   "outputs": [],
   "source": [
    "# Your code here\n",
    "def rename_title(titles, index, new_title):\n",
    "    normalized_title = new_title.strip().title()\n",
    "    titles[index] = normalized_title\n",
    "    return normalized_title"
   ]
  },
  {
   "cell_type": "markdown",
   "id": "ABtPPF6qDnYT",
   "metadata": {
    "id": "ABtPPF6qDnYT"
   },
   "source": [
    "---\n",
    "### Exercise 19\n",
    "Write `swap_books(titles, authors, is_checked_out, i, j)` that swaps the entries at indices `i` and `j` in **all three lists**. Return `True` if the swap happened; `False` if indices are invalid (keep it simple)."
   ]
  },
  {
   "cell_type": "code",
   "execution_count": 84,
   "id": "Pri037gtDnYT",
   "metadata": {
    "id": "Pri037gtDnYT"
   },
   "outputs": [],
   "source": [
    "# Your code here\n",
    "def swap_books(titles, authors, is_checked_out, i, j):\n",
    "    n = len(titles)\n",
    "    if 0 <= i < n and 0 <= j < n:\n",
    "        titles[i], titles[j] = titles[j], titles[i]\n",
    "        authors[i], authors[j] = authors[j], authors[i]\n",
    "        is_checked_out[i], is_checked_out[j] = is_checked_out[j], is_checked_out[i]\n",
    "        return True\n",
    "    return False"
   ]
  },
  {
   "cell_type": "markdown",
   "id": "D0_jZQA-DnYU",
   "metadata": {
    "id": "D0_jZQA-DnYU"
   },
   "source": [
    "---\n",
    "### Exercise 20\n",
    "Write `first_available_index(is_checked_out)` that returns the index of the first available book, or `-1` if none."
   ]
  },
  {
   "cell_type": "code",
   "execution_count": 85,
   "id": "k_-SK-BmDnYU",
   "metadata": {
    "id": "k_-SK-BmDnYU"
   },
   "outputs": [],
   "source": [
    "# Your code here\n",
    "def first_available_index(is_checked_out):\n",
    "    for i, checked in enumerate(is_checked_out):\n",
    "        if not checked:\n",
    "            return i\n",
    "    return -1"
   ]
  },
  {
   "cell_type": "markdown",
   "id": "lMg7Ikb8DnYU",
   "metadata": {
    "id": "lMg7Ikb8DnYU"
   },
   "source": [
    "---\n",
    "### Exercise 21\n",
    "Write `list_available_titles(titles, is_checked_out)` that returns a **new list** of titles that are available."
   ]
  },
  {
   "cell_type": "code",
   "execution_count": 86,
   "id": "WpJ-UKB0DnYV",
   "metadata": {
    "id": "WpJ-UKB0DnYV"
   },
   "outputs": [],
   "source": [
    "# Your code here\n",
    "def list_available_titles(titles, is_checked_out):\n",
    "    available_titles = []\n",
    "    for title, checked in zip(titles, is_checked_out):\n",
    "        if not checked:\n",
    "            available_titles.append(title)\n",
    "    return available_titles"
   ]
  },
  {
   "cell_type": "markdown",
   "id": "E4KIPy0ODnYV",
   "metadata": {
    "id": "E4KIPy0ODnYV"
   },
   "source": [
    "---\n",
    "### Exercise 22\n",
    "Write `checkout_by_title(titles, is_checked_out, search_title)` that finds a title exactly and checks it out if available. Return `True` on success, else `False`."
   ]
  },
  {
   "cell_type": "code",
   "execution_count": 87,
   "id": "1fe4yOPTDnYV",
   "metadata": {
    "id": "1fe4yOPTDnYV"
   },
   "outputs": [],
   "source": [
    "# Your code here\n",
    "def checkout_by_title(titles, is_checked_out, search_title):\n",
    "    for i, title in enumerate(titles):\n",
    "        if title == search_title and not is_checked_out[i]:\n",
    "            is_checked_out[i] = True\n",
    "            return True\n",
    "    return False"
   ]
  },
  {
   "cell_type": "markdown",
   "id": "UbVyHKnJDnYW",
   "metadata": {
    "id": "UbVyHKnJDnYW"
   },
   "source": [
    "---\n",
    "### Exercise 23\n",
    "Write `return_by_title_fuzzy(titles, is_checked_out, search_title)` that finds a title **case-insensitively** and returns it if currently checked out. Return `True` on success."
   ]
  },
  {
   "cell_type": "code",
   "execution_count": 88,
   "id": "zHI_o0V7DnYW",
   "metadata": {
    "id": "zHI_o0V7DnYW"
   },
   "outputs": [],
   "source": [
    "# Your code here\n",
    "def return_by_title_fuzzy(titles, is_checked_out, search_title):\n",
    "    search_lower = search_title.lower()\n",
    "    for i, title in enumerate(titles):\n",
    "        if title.lower() == search_lower and is_checked_out[i]:\n",
    "            is_checked_out[i] = False\n",
    "            return True\n",
    "    return False"
   ]
  },
  {
   "cell_type": "markdown",
   "id": "PGOCOcuSDnYX",
   "metadata": {
    "id": "PGOCOcuSDnYX"
   },
   "source": [
    "---\n",
    "### Exercise 24\n",
    "Write `find_titles_by_prefix(titles, prefix, case_sensitive=False)` that returns titles that start with `prefix`. Case-insensitive if `case_sensitive=False`."
   ]
  },
  {
   "cell_type": "code",
   "execution_count": 90,
   "id": "QEM-XW8sDnYX",
   "metadata": {
    "id": "QEM-XW8sDnYX"
   },
   "outputs": [],
   "source": [
    "# Your code here\n",
    "def find_titles_by_prefix(titles, prefix, case_sensitive=False):\n",
    "    result = []\n",
    "    if not case_sensitive:\n",
    "        prefix = prefix.lower()\n",
    "    for title in titles:\n",
    "        check_title = title if case_sensitive else title.lower()\n",
    "        if check_title.startswith(prefix):\n",
    "            result.append(title)\n",
    "    return result\n"
   ]
  },
  {
   "cell_type": "markdown",
   "id": "0Gax1gwFDnYY",
   "metadata": {
    "id": "0Gax1gwFDnYY"
   },
   "source": [
    "---\n",
    "### Exercise 25\n",
    "Write `split_title_author(label)` that expects a string like `\"Title — Author\"` and returns a tuple `(title, author)` with both parts **stripped**."
   ]
  },
  {
   "cell_type": "code",
   "execution_count": 91,
   "id": "1sLn7wMdDnYY",
   "metadata": {
    "id": "1sLn7wMdDnYY"
   },
   "outputs": [],
   "source": [
    "# Your code here\n",
    "def split_title_author(label):\n",
    "    title, author = label.split(\"—\", 1)\n",
    "    return title.strip(), author.strip()"
   ]
  },
  {
   "cell_type": "markdown",
   "id": "RFVlJ2yLDnYY",
   "metadata": {
    "id": "RFVlJ2yLDnYY"
   },
   "source": [
    "---\n",
    "### Exercise 26\n",
    "Write `make_label(title, author, style=\"long\")` that returns either:\n",
    "- `\"Title — Author\"` if `style==\"long\"`\n",
    "- `\"Title (Author)\"` if `style==\"short\"`\n",
    "Otherwise return just `\"Title\"`."
   ]
  },
  {
   "cell_type": "code",
   "execution_count": null,
   "id": "rVxh6WRsDnYZ",
   "metadata": {
    "id": "rVxh6WRsDnYZ"
   },
   "outputs": [],
   "source": [
    "# Your code here\n",
    "def make_label(title, author, style=\"long\"):\n",
    "    if style == \"long\":\n",
    "        return f\"{title} — {author}\"\n",
    "    elif style == \"short\":\n",
    "        return f\"{title} ({author})\"\n",
    "    else:\n",
    "        return title"
   ]
  },
  {
   "cell_type": "markdown",
   "id": "5T87hpqNDnYa",
   "metadata": {
    "id": "5T87hpqNDnYa"
   },
   "source": [
    "---\n",
    "### Exercise 27\n",
    "Write `validate_record(title, author)` that returns `True` only if `title` and `author` are **non-empty strings** after trimming."
   ]
  },
  {
   "cell_type": "code",
   "execution_count": null,
   "id": "BvY8SThWDnYa",
   "metadata": {
    "id": "BvY8SThWDnYa"
   },
   "outputs": [],
   "source": [
    "# Your code here\n",
    "def validate_record(title, author):\n",
    "    return bool(title.strip()) and bool(author.strip())"
   ]
  },
  {
   "cell_type": "markdown",
   "id": "aM7NizxSDnYb",
   "metadata": {
    "id": "aM7NizxSDnYb"
   },
   "source": [
    "---\n",
    "### Exercise 28\n",
    "Write `insert_book_at(titles, authors, is_checked_out, index, title, author)` that inserts the book at `index` in all three lists. Return `True` if inserted; `False` if `index` is invalid."
   ]
  },
  {
   "cell_type": "code",
   "execution_count": 94,
   "id": "FsUDpQLDDnYb",
   "metadata": {
    "id": "FsUDpQLDDnYb"
   },
   "outputs": [],
   "source": [
    "# Your code here\n",
    "def insert_book_at(titles, authors, is_checked_out, index, title, author):\n",
    "    n = len(titles)\n",
    "    if 0 <= index <= n:\n",
    "        titles.insert(index, title)\n",
    "        authors.insert(index, author)\n",
    "        is_checked_out.insert(index, False)\n",
    "        return True\n",
    "    return False"
   ]
  },
  {
   "cell_type": "markdown",
   "id": "f-pQh4jADnYc",
   "metadata": {
    "id": "f-pQh4jADnYc"
   },
   "source": [
    "---\n",
    "### Exercise 29\n",
    "Write `format_catalog_row(i, titles, authors, is_checked_out)` that returns a string like `\"#1 | Clean Code | Robert C. Martin | Available\"` (1-based index)."
   ]
  },
  {
   "cell_type": "code",
   "execution_count": null,
   "id": "AXDKrUwlDnYc",
   "metadata": {
    "id": "AXDKrUwlDnYc"
   },
   "outputs": [],
   "source": [
    "# Your code here\n",
    "def format_catalog_row(i, titles, authors, is_checked_out):\n",
    "    status = \"Available\" if not is_checked_out[i] else \"Checked out\"\n",
    "    return f\"#{i+1} | {titles[i]} | {authors[i]} | {status}\""
   ]
  },
  {
   "cell_type": "markdown",
   "id": "0ATk6Ao7DnYd",
   "metadata": {
    "id": "0ATk6Ao7DnYd"
   },
   "source": [
    "---\n",
    "### Exercise 30\n",
    "Write `catalog_summary(titles, authors, is_checked_out)` that returns a multi-line string with one formatted row per book using `format_catalog_row`. End with a line like `\"Total: N | Checked out: M | Available: K\"`."
   ]
  },
  {
   "cell_type": "code",
   "execution_count": 95,
   "id": "AThaVHYoDnYd",
   "metadata": {
    "id": "AThaVHYoDnYd"
   },
   "outputs": [],
   "source": [
    "# Your code here\n",
    "def catalog_summary(titles, authors, is_checked_out):\n",
    "    lines = []\n",
    "    for i in range(len(titles)):\n",
    "        lines.append(format_catalog_row(i, titles, authors, is_checked_out))\n",
    "    total = len(titles)\n",
    "    checked_out = sum(is_checked_out)\n",
    "    available = total - checked_out\n",
    "    lines.append(f\"Total: {total} | Checked out: {checked_out} | Available: {available}\")\n",
    "    return \"\\n\".join(lines)"
   ]
  }
 ],
 "metadata": {
  "colab": {
   "provenance": [
    {
     "file_id": "1J9EHxh1nzOjzVboLiwXRN8kkk_U71_Dp",
     "timestamp": 1758565845152
    }
   ]
  },
  "kernelspec": {
   "display_name": "Python 3",
   "language": "python",
   "name": "python3"
  },
  "language_info": {
   "codemirror_mode": {
    "name": "ipython",
    "version": 3
   },
   "file_extension": ".py",
   "mimetype": "text/x-python",
   "name": "python",
   "nbconvert_exporter": "python",
   "pygments_lexer": "ipython3",
   "version": "3.9.6"
  },
  "title": "INST326 Week 3 — Functions (Library Management Project)"
 },
 "nbformat": 4,
 "nbformat_minor": 5
}
